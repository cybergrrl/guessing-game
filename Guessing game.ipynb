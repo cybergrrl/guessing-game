{
 "cells": [
  {
   "cell_type": "code",
   "execution_count": null,
   "metadata": {},
   "outputs": [],
   "source": [
    "from random import randint\n",
    "computernumber = randint(1, 100)\n",
    "\n",
    "myguess = 0\n",
    "guesscount = 0\n",
    "\n",
    "while myguess != computernumber:\n",
    "    guesscount += 1\n",
    "    myguess = int(input(\"Please give us your {}. guess between 1 and 100: \".format(guesscount)))\n",
    "    newdistance = abs(computernumber - myguess)\n",
    "    if newdistance == 0:\n",
    "        break\n",
    "    \n",
    "    if myguess <= 0 or myguess >= 101:\n",
    "        print(\"OUT OF BOUNDS\")\n",
    "        break\n",
    "    \n",
    "    if guesscount == 1:\n",
    "        if newdistance > 10:\n",
    "        #if myguess < computernumber - 10 or myguess > computernumber + 10:\n",
    "            print(\"COLD!\")\n",
    "        else: \n",
    "            print(\"WARM!\")\n",
    "    else:\n",
    "        \n",
    "        if newdistance < prevdistance:\n",
    "            print(\"WARMER!\")\n",
    "        else:\n",
    "            print(\"COLDER!\")\n",
    "    prevdistance = newdistance\n",
    "    \n",
    "print(\"You won! The number is indeed {}. It took you {} guesses to get there. Well done!\".format(computernumber, guesscount))\n",
    "        \n"
   ]
  },
  {
   "cell_type": "code",
   "execution_count": null,
   "metadata": {},
   "outputs": [],
   "source": []
  }
 ],
 "metadata": {
  "kernelspec": {
   "display_name": "Python 3",
   "language": "python",
   "name": "python3"
  },
  "language_info": {
   "codemirror_mode": {
    "name": "ipython",
    "version": 3
   },
   "file_extension": ".py",
   "mimetype": "text/x-python",
   "name": "python",
   "nbconvert_exporter": "python",
   "pygments_lexer": "ipython3",
   "version": "3.7.1"
  }
 },
 "nbformat": 4,
 "nbformat_minor": 2
}
