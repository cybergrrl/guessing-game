{
 "cells": [
  {
   "cell_type": "code",
   "execution_count": 1,
   "metadata": {},
   "outputs": [
    {
     "ename": "SyntaxError",
     "evalue": "invalid syntax (<ipython-input-1-07b436cd180f>, line 1)",
     "output_type": "error",
     "traceback": [
      "\u001b[1;36m  File \u001b[1;32m\"<ipython-input-1-07b436cd180f>\"\u001b[1;36m, line \u001b[1;32m1\u001b[0m\n\u001b[1;33m    Write a program that picks a random integer from 1 to 100, and has players guess the number. The rules are:\u001b[0m\n\u001b[1;37m          ^\u001b[0m\n\u001b[1;31mSyntaxError\u001b[0m\u001b[1;31m:\u001b[0m invalid syntax\n"
     ]
    }
   ],
   "source": [
    "Write a program that picks a random integer from 1 to 100, and has players guess the number. The rules are:\n",
    "\n",
    "1. If a player's guess is less than 1 or greater than 100, say \"OUT OF BOUNDS\"\n",
    "2. On a player's first turn, if their guess is\n",
    " * within 10 of the number, return \"WARM!\"\n",
    " * further than 10 away from the number, return \"COLD!\"\n",
    "3. On all subsequent turns, if a guess is \n",
    " * closer to the number than the previous guess return \"WARMER!\"\n",
    " * farther from the number than the previous guess, return \"COLDER!\"\n",
    "4. When the player's guess equals the number, tell them they've guessed correctly *and* how many guesses it took!"
   ]
  },
  {
   "cell_type": "code",
   "execution_count": 18,
   "metadata": {},
   "outputs": [
    {
     "name": "stdout",
     "output_type": "stream",
     "text": [
      "Please give us your 1. guess between 1 and 100: 50\n",
      "COLD!\n",
      "Please give us your 2. guess between 1 and 100: 40\n",
      "WARMER!\n",
      "Please give us your 3. guess between 1 and 100: 33\n",
      "WARMER!\n",
      "Please give us your 4. guess between 1 and 100: 22\n",
      "COLDER!\n",
      "Please give us your 5. guess between 1 and 100: 30\n",
      "WARMER!\n",
      "Please give us your 6. guess between 1 and 100: 31\n",
      "WARMER!\n",
      "Please give us your 7. guess between 1 and 100: 32\n",
      "WARMER!\n",
      "Please give us your 8. guess between 1 and 100: 33\n",
      "WARMER!\n",
      "Please give us your 9. guess between 1 and 100: 34\n",
      "WARMER!\n",
      "Please give us your 10. guess between 1 and 100: 35\n",
      "You won! The number is indeed 35. It took you 10 guesses to get there. Well done!\n"
     ]
    }
   ],
   "source": [
    "from random import randint\n",
    "computernumber = randint(1, 100)\n",
    "\n",
    "myguess = 0\n",
    "guesscount = 0\n",
    "\n",
    "while myguess != computernumber:\n",
    "    guesscount += 1\n",
    "    myguess = int(input(\"Please give us your {}. guess between 1 and 100: \".format(guesscount)))\n",
    "    newdistance = abs(computernumber - myguess)\n",
    "    if newdistance == 0:\n",
    "        break\n",
    "    \n",
    "    if myguess <= 0 or myguess >= 101:\n",
    "        print(\"OUT OF BOUNDS\")\n",
    "        break\n",
    "    \n",
    "    if guesscount == 1:\n",
    "        if newdistance > 10:\n",
    "        #if myguess < computernumber - 10 or myguess > computernumber + 10:\n",
    "            print(\"COLD!\")\n",
    "        else: \n",
    "            print(\"WARM!\")\n",
    "    else:\n",
    "        \n",
    "        if newdistance < prevdistance:\n",
    "            print(\"WARMER!\")\n",
    "        else:\n",
    "            print(\"COLDER!\")\n",
    "    prevdistance = newdistance\n",
    "    \n",
    "print(\"You won! The number is indeed {}. It took you {} guesses to get there. Well done!\".format(computernumber, guesscount))\n",
    "        \n"
   ]
  },
  {
   "cell_type": "code",
   "execution_count": null,
   "metadata": {},
   "outputs": [],
   "source": []
  }
 ],
 "metadata": {
  "kernelspec": {
   "display_name": "Python 3",
   "language": "python",
   "name": "python3"
  },
  "language_info": {
   "codemirror_mode": {
    "name": "ipython",
    "version": 3
   },
   "file_extension": ".py",
   "mimetype": "text/x-python",
   "name": "python",
   "nbconvert_exporter": "python",
   "pygments_lexer": "ipython3",
   "version": "3.7.1"
  }
 },
 "nbformat": 4,
 "nbformat_minor": 2
}
